{
 "cells": [
  {
   "cell_type": "code",
   "execution_count": 11,
   "metadata": {},
   "outputs": [
    {
     "name": "stdout",
     "output_type": "stream",
     "text": [
      "Please enter a number to disarium test  :    8\n",
      "\n",
      "=======================================================\n",
      "\n",
      "TRUE , This number is disarium\n"
     ]
    }
   ],
   "source": [
    "def disarium(number):\n",
    "    disarium_number=0\n",
    "    numbertxt=str(number)\n",
    "    for i in range(len(numbertxt)):\n",
    "        digit=int(numbertxt[i])\n",
    "        disarium_number+=digit**(i+1)\n",
    "    if disarium_number==int(numbertxt):\n",
    "        print()\n",
    "        print('='*55)\n",
    "        print()\n",
    "        print(\"TRUE , This number is disarium\")\n",
    "    else:\n",
    "        print()\n",
    "        print('='*55)\n",
    "        print()\n",
    "        print(\"Unfortunately this number is not disarium\")\n",
    "\n",
    "number=input(\"Please enter a number to disarium test  :    \")\n",
    "disarium(number)"
   ]
  },
  {
   "cell_type": "markdown",
   "metadata": {},
   "source": [
    "Please enter a number to disarium test  :    155\n",
    "\n",
    "=======================================================\n",
    "\n",
    "Unfortunately this number is not disarium\n",
    "\n",
    "Please enter a number to disarium test  :    75\n",
    "\n",
    "=======================================================\n",
    "\n",
    "Unfortunately this number is not disarium\n",
    "\n",
    "\n",
    "Please enter a number to disarium test  :    135\n",
    "\n",
    "=======================================================\n",
    "\n",
    "TRUE , This number is disarium\n",
    "\n",
    "Please enter a number to disarium test  :    8\n",
    "\n",
    "=======================================================\n",
    "\n",
    "TRUE , This number is disarium"
   ]
  }
 ],
 "metadata": {
  "kernelspec": {
   "display_name": "Python 3",
   "language": "python",
   "name": "python3"
  },
  "language_info": {
   "codemirror_mode": {
    "name": "ipython",
    "version": 3
   },
   "file_extension": ".py",
   "mimetype": "text/x-python",
   "name": "python",
   "nbconvert_exporter": "python",
   "pygments_lexer": "ipython3",
   "version": "3.7.4"
  }
 },
 "nbformat": 4,
 "nbformat_minor": 2
}
