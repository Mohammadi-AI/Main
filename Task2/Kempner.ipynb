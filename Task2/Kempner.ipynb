{
 "cells": [
  {
   "cell_type": "code",
   "execution_count": 16,
   "metadata": {},
   "outputs": [
    {
     "name": "stdout",
     "output_type": "stream",
     "text": [
      "Please Enter a number to KEMPNER test :  55\n",
      "11  is kempner for  55\n"
     ]
    }
   ],
   "source": [
    "import math\n",
    "def kempner(number):\n",
    "    fact=0\n",
    "    kempner_list=[]\n",
    "    digit=int(number)\n",
    "    for i in range (1,digit):\n",
    "        fact=math.factorial(i)\n",
    "        if fact%digit==0 :\n",
    "            kempner_list.append(i)\n",
    "            kempner_list.sort()\n",
    "    print(kempner_list[0],\" is kempner for \",digit)\n",
    "        \n",
    "number=input(\"Please Enter a number to KEMPNER test :  \")\n",
    "kempner(number)\n",
    "        "
   ]
  },
  {
   "cell_type": "markdown",
   "metadata": {},
   "source": [
    "Please Enter a number to KEMPNER test :  10\n",
    "5  is kempner for  10\n",
    "\n",
    "\n",
    "Please Enter a number to KEMPNER test :  6\n",
    "3  is kempner for  6\n",
    "\n",
    "Please Enter a number to KEMPNER test :  200\n",
    "10  is kempner for  200\n",
    "\n",
    "Please Enter a number to KEMPNER test :  55\n",
    "11  is kempner for  55"
   ]
  }
 ],
 "metadata": {
  "kernelspec": {
   "display_name": "Python 3",
   "language": "python",
   "name": "python3"
  },
  "language_info": {
   "codemirror_mode": {
    "name": "ipython",
    "version": 3
   },
   "file_extension": ".py",
   "mimetype": "text/x-python",
   "name": "python",
   "nbconvert_exporter": "python",
   "pygments_lexer": "ipython3",
   "version": "3.7.4"
  }
 },
 "nbformat": 4,
 "nbformat_minor": 2
}
