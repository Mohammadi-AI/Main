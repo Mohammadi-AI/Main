{
 "cells": [
  {
   "cell_type": "code",
   "execution_count": 19,
   "metadata": {},
   "outputs": [
    {
     "name": "stdout",
     "output_type": "stream",
     "text": [
      "Please enter a word :  samrad company\n",
      "yn0pm2c d0rm0s\n"
     ]
    }
   ],
   "source": [
    "def encrypt(text):\n",
    "    text_reverse=str(text [::-1]).lower()\n",
    "    for i in range (len(text_reverse)) :\n",
    "        if text_reverse[i]== 'a':\n",
    "            text_reverse=text_reverse.replace(text_reverse[i],'0')\n",
    "        if text_reverse[i]== 'e' :\n",
    "            text_reverse=text_reverse.replace(text_reverse[i],'1')\n",
    "        if text_reverse[i]== 'i'  or text_reverse[i]== 'o':\n",
    "            text_reverse=text_reverse.replace(text_reverse[i],'2')\n",
    "        if text_reverse[i]== 'i'  or text_reverse[i]== 'u':\n",
    "            text_reverse=text_reverse.replace(text_reverse[i],'3')\n",
    "      \n",
    "    print(text_reverse)\n",
    "    \n",
    "txt=input(\"Please enter a word :  \")\n",
    "encrypt(txt)"
   ]
  },
  {
   "cell_type": "markdown",
   "metadata": {},
   "source": [
    "Please enter a word :  apple\n",
    "1lpp0\n",
    "\n",
    "Please enter a word :  mohammadi\n",
    "2d0mm0h2m\n",
    "\n",
    "Please enter a word :  samrad company\n",
    "yn0pm2c d0rm0s"
   ]
  }
 ],
 "metadata": {
  "kernelspec": {
   "display_name": "Python 3",
   "language": "python",
   "name": "python3"
  },
  "language_info": {
   "codemirror_mode": {
    "name": "ipython",
    "version": 3
   },
   "file_extension": ".py",
   "mimetype": "text/x-python",
   "name": "python",
   "nbconvert_exporter": "python",
   "pygments_lexer": "ipython3",
   "version": "3.7.4"
  }
 },
 "nbformat": 4,
 "nbformat_minor": 2
}
