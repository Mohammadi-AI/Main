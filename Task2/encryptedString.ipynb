{
 "cells": [
  {
   "cell_type": "code",
   "execution_count": 17,
   "metadata": {},
   "outputs": [
    {
     "name": "stdout",
     "output_type": "stream",
     "text": [
      "Enter a sentense : please encode the wordds\n",
      "\n",
      ".--.-....-.... .-.-.-.----... -..... ...----.-.-..-.....\n"
     ]
    }
   ],
   "source": [
    "def encryptext(text):\n",
    "    \n",
    "    code={\n",
    "            \"A\":\".-\",\n",
    "            \"B\":\"-...\",\n",
    "            \"C\":\"-.-.\",\n",
    "            \"D\":\"-..\",\n",
    "            \"E\":\".\",\n",
    "            \"F\":\"..-.\",\n",
    "            \"G\":\"--.\",\n",
    "            \"H\":\"....\",\n",
    "            \"I\":\"..\",\n",
    "            \"J\":\".---\",\n",
    "            \"K\":\"-.-\",\n",
    "            \"L\":\".-..\",\n",
    "            \"M\":\"--\",\n",
    "            \"N\":\"-.\",\n",
    "            \"O\":\"---\",\n",
    "            \"P\":\".--\",\n",
    "            \"Q\":\"--.-\",\n",
    "            \"R\":\".-.\",\n",
    "            \"S\":\"...\",\n",
    "            \"T\":\"-\",\n",
    "            \"U\":\"..-\",\n",
    "            \"W\":\"...-\",\n",
    "            \"X\":\"-..-\",\n",
    "            \"Y\":\"-.--\",\n",
    "            \"Z\":\"--..\",\n",
    "            \" \":\" \",\n",
    "            \"0\":\"-----\",\n",
    "            \"1\":\".----\",\n",
    "            \"2\":\"..---\",\n",
    "            \"3\":\"...--\",\n",
    "            \"4\":\"....-\",\n",
    "            \"5\":\".....\",\n",
    "            \"6\":\"-....\",\n",
    "            \"7\":\"--...\",\n",
    "            \"8\":\"---..\",\n",
    "            \"9\":\"----.\",\n",
    "            \"&\":\".-...\",\n",
    "            \"'\":\".----\",\n",
    "            \")\":\"-.--.-\",\n",
    "            \"(\":\"-.--.\",\n",
    "            \":\":\"---...\",\n",
    "            \",\":\"--..--\",\n",
    "            \"=\":\"-...-\",\n",
    "            \"!\":\"-.-.--\",\n",
    "            \".\":\"-.-.-.\",\n",
    "            \"-\":\"-....-\",\n",
    "            \"+\":\".-.-.\",\n",
    "            '\"':\".-..-.\",\n",
    "            \"?\":\"..--..\",\n",
    "            \"/\":\"-..-.\",\n",
    "          }\n",
    "    text=text.upper()\n",
    "    for item in text :\n",
    "        morse=code.get(item)\n",
    "        text=text.replace(item,morse)\n",
    "    print(text)\n",
    "            \n",
    "text=input(\"Enter a sentense : \")\n",
    "print()\n",
    "encryptext(text)"
   ]
  },
  {
   "cell_type": "markdown",
   "metadata": {},
   "source": [
    "Enter a sentense : help me !\n",
    "......-...-- --. -.-.-\n",
    "\n",
    "\n",
    "\n",
    "**************************************************\n",
    "\n",
    "Enter a sentense : Mr mohammadi\n",
    "--.-. -----.....-----.--....\n",
    "\n",
    "********************************************\n",
    "Enter a sentense : please encode the wordds\n",
    "\n",
    ".--.-....-.... .-.-.-.----... -..... ...----.-.-..-....."
   ]
  }
 ],
 "metadata": {
  "kernelspec": {
   "display_name": "Python 3",
   "language": "python",
   "name": "python3"
  },
  "language_info": {
   "codemirror_mode": {
    "name": "ipython",
    "version": 3
   },
   "file_extension": ".py",
   "mimetype": "text/x-python",
   "name": "python",
   "nbconvert_exporter": "python",
   "pygments_lexer": "ipython3",
   "version": "3.7.4"
  }
 },
 "nbformat": 4,
 "nbformat_minor": 2
}
