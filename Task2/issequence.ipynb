{
 "cells": [
  {
   "cell_type": "code",
   "execution_count": 51,
   "metadata": {
    "scrolled": true
   },
   "outputs": [
    {
     "name": "stdout",
     "output_type": "stream",
     "text": [
      "Enter first digits series with space :  44 46\n",
      "Enter second digits series with space :  45\n",
      "TRUE\n"
     ]
    }
   ],
   "source": [
    "def issequence(first,second):\n",
    "    final=first + second\n",
    "    finallist=[]\n",
    "\n",
    "    for i in range(len(final)):\n",
    "        if final[i]!=\" \" :\n",
    "            finallist.append(int(final[i]))\n",
    "\n",
    "    finallist.sort()\n",
    "\n",
    "    lenfinallist=int(len(finallist)-1)\n",
    "    for i in range (finallist[0],finallist[lenfinallist]):\n",
    "        if finallist[i-1]!=i:\n",
    "            print(\"FALSE\")\n",
    "            break\n",
    "    else:\n",
    "        print(\"TRUE\")\n",
    "\n",
    "#*********************************************************\n",
    "\n",
    "first=input(\"Enter first digits series with space :  \")\n",
    "second=input(\"Enter second digits series with space :  \")\n",
    "\n",
    "issequence(first,second)"
   ]
  },
  {
   "cell_type": "markdown",
   "metadata": {},
   "source": [
    "Enter first digits series with space :  7 4 5 1 \n",
    "Enter second digits series with space :  2 3 6\n",
    "TRUE\n",
    "\n",
    "\n",
    "******************************************\n",
    "\n",
    "Enter first digits series with space :  1 4 6 5\n",
    "Enter second digits series with space :  2 7 8 9\n",
    "FALSE\n",
    "\n",
    "\n",
    "*****************************************\n",
    "Enter first digits series with space :  44 46\n",
    "Enter second digits series with space :  45\n",
    "TRUE\n"
   ]
  }
 ],
 "metadata": {
  "kernelspec": {
   "display_name": "Python 3",
   "language": "python",
   "name": "python3"
  },
  "language_info": {
   "codemirror_mode": {
    "name": "ipython",
    "version": 3
   },
   "file_extension": ".py",
   "mimetype": "text/x-python",
   "name": "python",
   "nbconvert_exporter": "python",
   "pygments_lexer": "ipython3",
   "version": "3.7.4"
  }
 },
 "nbformat": 4,
 "nbformat_minor": 2
}
