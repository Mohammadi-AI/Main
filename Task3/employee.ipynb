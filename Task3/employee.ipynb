{
 "cells": [
  {
   "cell_type": "code",
   "execution_count": 7,
   "metadata": {},
   "outputs": [
    {
     "name": "stdout",
     "output_type": "stream",
     "text": [
      "ali\n",
      "1523560\n"
     ]
    }
   ],
   "source": [
    "class employee:\n",
    "    def __init__(self,doc):\n",
    "        count=0\n",
    "        name=\"\"\n",
    "        for i in range(len(doc)):\n",
    "            if doc[i]!=\" \":\n",
    "                name+=doc[i]\n",
    "            else:\n",
    "                count+=1\n",
    "                if count==1:\n",
    "                    self.name=name\n",
    "                elif count==2:\n",
    "                    self.lastname=lastname\n",
    "\n",
    "ali=employee(\"ali rahimi\")\n",
    "print(ali.name)\n",
    "mina=employee(\"mina abbasi\")\n",
    "mina.salary=1523560\n",
    "print(mina.salary)\n",
    "        \n",
    "      \n"
   ]
  }
 ],
 "metadata": {
  "kernelspec": {
   "display_name": "Python 3",
   "language": "python",
   "name": "python3"
  },
  "language_info": {
   "codemirror_mode": {
    "name": "ipython",
    "version": 3
   },
   "file_extension": ".py",
   "mimetype": "text/x-python",
   "name": "python",
   "nbconvert_exporter": "python",
   "pygments_lexer": "ipython3",
   "version": "3.7.4"
  }
 },
 "nbformat": 4,
 "nbformat_minor": 2
}
