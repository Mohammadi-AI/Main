{
 "cells": [
  {
   "cell_type": "code",
   "execution_count": 37,
   "metadata": {},
   "outputs": [
    {
     "name": "stdout",
     "output_type": "stream",
     "text": [
      "please enter a digit 0-26 :   26\n",
      "nine : 2 , three : 2 , one : 2\n"
     ]
    }
   ],
   "source": [
    "class ntn:\n",
    "    \n",
    "    def __init__ (self,number):\n",
    "        self.number=number\n",
    "    \n",
    "    def calc(self):\n",
    "        self.nine=int(self.number/9)\n",
    "        self.number=self.number%9\n",
    "        self.three=int(self.number/3)\n",
    "        self.number=self.number%3\n",
    "        print(\"nine : {} , three : {} , one : {}\".format(self.nine,self.three,self.number))\n",
    "       \n",
    "              \n",
    "number=int(input(\"please enter a digit 0-26 :   \"))\n",
    "num1=ntn(number)\n",
    "num1.calc()\n"
   ]
  },
  {
   "cell_type": "markdown",
   "metadata": {},
   "source": [
    "please enter a digit 0-26 :   22\n",
    "nine : 2 , three : 1 , one : 1\n",
    "\n",
    "\n",
    "please enter a digit 0-26 :   20\n",
    "nine : 2 , three : 0 , one : 2\n",
    "\n",
    "\n",
    "please enter a digit 0-26 :   26\n",
    "nine : 2 , three : 2 , one : 2"
   ]
  }
 ],
 "metadata": {
  "kernelspec": {
   "display_name": "Python 3",
   "language": "python",
   "name": "python3"
  },
  "language_info": {
   "codemirror_mode": {
    "name": "ipython",
    "version": 3
   },
   "file_extension": ".py",
   "mimetype": "text/x-python",
   "name": "python",
   "nbconvert_exporter": "python",
   "pygments_lexer": "ipython3",
   "version": "3.7.4"
  }
 },
 "nbformat": 4,
 "nbformat_minor": 2
}
