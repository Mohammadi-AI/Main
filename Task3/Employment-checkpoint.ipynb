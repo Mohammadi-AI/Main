{
 "cells": [
  {
   "cell_type": "code",
   "execution_count": 5,
   "metadata": {},
   "outputs": [
    {
     "name": "stdout",
     "output_type": "stream",
     "text": [
      " pleaase Enter your name, family and aslary  :  a-f-300\n"
     ]
    },
    {
     "ename": "TypeError",
     "evalue": "from_string() missing 1 required positional argument: 'partic'",
     "output_type": "error",
     "traceback": [
      "\u001b[1;31m---------------------------------------------------------------------------\u001b[0m",
      "\u001b[1;31mTypeError\u001b[0m                                 Traceback (most recent call last)",
      "\u001b[1;32m<ipython-input-5-c7a1ee416287>\u001b[0m in \u001b[0;36m<module>\u001b[1;34m\u001b[0m\n\u001b[0;32m     17\u001b[0m \u001b[1;33m\u001b[0m\u001b[0m\n\u001b[0;32m     18\u001b[0m \u001b[0mpartic\u001b[0m\u001b[1;33m=\u001b[0m\u001b[0minput\u001b[0m\u001b[1;33m(\u001b[0m\u001b[1;34m\" pleaase Enter your name, family and aslary  :  \"\u001b[0m\u001b[1;33m)\u001b[0m\u001b[1;33m\u001b[0m\u001b[1;33m\u001b[0m\u001b[0m\n\u001b[1;32m---> 19\u001b[1;33m \u001b[0memp1\u001b[0m\u001b[1;33m=\u001b[0m\u001b[0memployee\u001b[0m\u001b[1;33m.\u001b[0m\u001b[0mfrom_string\u001b[0m\u001b[1;33m(\u001b[0m\u001b[0mpartic\u001b[0m\u001b[1;33m)\u001b[0m\u001b[1;33m\u001b[0m\u001b[1;33m\u001b[0m\u001b[0m\n\u001b[0m\u001b[0;32m     20\u001b[0m \u001b[1;33m\u001b[0m\u001b[0m\n\u001b[0;32m     21\u001b[0m \u001b[1;33m\u001b[0m\u001b[0m\n",
      "\u001b[1;31mTypeError\u001b[0m: from_string() missing 1 required positional argument: 'partic'"
     ]
    }
   ],
   "source": [
    "class employee:\n",
    "    \n",
    "    def __init__ (self,firstname,lastname,salary):\n",
    "        self.firstname=firstname\n",
    "        self.lastname=lastname\n",
    "        self.salary=salary\n",
    "    \n",
    "    def from_string(self, partic):\n",
    "        self.partic=partic.replace('.',' ')\n",
    "        self.partic_list=partic.split()\n",
    "        self.firstname=partic_list[0]\n",
    "        self.lastname=partic_list[1]\n",
    "        self.salary=partic_list[2]\n",
    "        \n",
    "    def display(self):\n",
    "        print(self.firstname,\" \",self.lastname,\" \",self.salary)\n",
    "\n",
    "partic=input(\" pleaase Enter your name, family and aslary  :  \")\n",
    "emp1=employee.from_string(partic)\n",
    "\n",
    "    "
   ]
  },
  {
   "cell_type": "code",
   "execution_count": null,
   "metadata": {},
   "outputs": [],
   "source": []
  }
 ],
 "metadata": {
  "kernelspec": {
   "display_name": "Python 3",
   "language": "python",
   "name": "python3"
  },
  "language_info": {
   "codemirror_mode": {
    "name": "ipython",
    "version": 3
   },
   "file_extension": ".py",
   "mimetype": "text/x-python",
   "name": "python",
   "nbconvert_exporter": "python",
   "pygments_lexer": "ipython3",
   "version": "3.7.4"
  }
 },
 "nbformat": 4,
 "nbformat_minor": 2
}
