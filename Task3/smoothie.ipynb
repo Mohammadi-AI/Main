{
 "cells": [
  {
   "cell_type": "code",
   "execution_count": null,
   "metadata": {
    "collapsed": true
   },
   "outputs": [],
   "source": []
  },
  {
   "cell_type": "code",
   "execution_count": 27,
   "metadata": {},
   "outputs": [
    {
     "name": "stdout",
     "output_type": "stream",
     "text": [
      " strawberry= 1.5 \n",
      " banana= 0.5 \n",
      " mango= 2.5 \n",
      " bluberry= 1.0 \n",
      " raspbery= 1.0 \n",
      " apple= 1.75 \n",
      " pineapple= 3.5\n",
      "\n",
      "how many fruits do you like : 1\n",
      "please enter the fruit from menue :  mango\n",
      "1 3.75\n"
     ]
    }
   ],
   "source": [
    "class smoothie:\n",
    "    \n",
    "#     def __init__ (self,ingredient):\n",
    "#         self.ingredient=ingredient\n",
    "        \n",
    "    \n",
    "    def getcost(self,ingredient):\n",
    "        \n",
    "        cost=0 \n",
    "        fruit=\"\"\n",
    "        count=0\n",
    "        for i in range(len(ingredient)):\n",
    "            if ingredient[i]!=\",\":\n",
    "                fruit+=ingredient[i]\n",
    "            else:\n",
    "                count+=1\n",
    "                if fruit==\"strawberry\":\n",
    "                    cost+=1.50\n",
    "                elif fruit==\"banana\":\n",
    "                    cost+=0.50\n",
    "\n",
    "                elif fruit==\"mango\":\n",
    "                    cost+=2.50\n",
    "\n",
    "                elif fruit==\"bluberry\":\n",
    "                    cost+=1.00\n",
    "\n",
    "                elif fruit==\"raspbery\":\n",
    "                    cost+=1.00\n",
    "\n",
    "                elif fruit==\"apple\":\n",
    "                    cost+=1.75\n",
    "\n",
    "                elif fruit==\"pineapple\":\n",
    "                    cost+=3.50\n",
    "        print(count, cost*1.5)\n",
    "        \n",
    "  \n",
    "    \n",
    "    \n",
    "    \n",
    "    def getname(self):\n",
    "        strawberry=1.50\n",
    "        banana=0.50\n",
    "        mango=2.50\n",
    "        bluberry=1.00\n",
    "        raspbery=1.00\n",
    "        apple=1.75\n",
    "        pineapple=3.50\n",
    "        print(\" strawberry=\",strawberry,\"\\n\",\n",
    "              \"banana=\", banana,\"\\n\",\n",
    "             \"mango=\",mango,\"\\n\",\n",
    "             \"bluberry=\",bluberry,\"\\n\",\n",
    "             \"raspbery=\",raspbery,\"\\n\",\n",
    "             \"apple=\",apple,\"\\n\",\n",
    "             \"pineapple=\",pineapple)\n",
    "        print()\n",
    "\n",
    "menue=smoothie()\n",
    "menue.getname()\n",
    "ingredient=\"\"\n",
    "number=int(input(\"how many fruits do you like : \"))\n",
    "for i in range (number):\n",
    "    order=input(\"please enter the fruit from menue :  \")\n",
    "    ingredient+=order\n",
    "    ingredient+=\",\"\n",
    "    \n",
    "\n",
    "cust=smoothie()\n",
    "cust.getcost(ingredient)\n"
   ]
  },
  {
   "cell_type": "markdown",
   "metadata": {},
   "source": [
    "strawberry= 1.5 \n",
    " banana= 0.5 \n",
    " mango= 2.5 \n",
    " bluberry= 1.0 \n",
    " raspbery= 1.0 \n",
    " apple= 1.75 \n",
    " pineapple= 3.5\n",
    "\n",
    "how many fruits do you like : 1\n",
    "please enter the fruit from menue :  mango\n",
    "1 3.75"
   ]
  }
 ],
 "metadata": {
  "kernelspec": {
   "display_name": "Python 3",
   "language": "python",
   "name": "python3"
  },
  "language_info": {
   "codemirror_mode": {
    "name": "ipython",
    "version": 3
   },
   "file_extension": ".py",
   "mimetype": "text/x-python",
   "name": "python",
   "nbconvert_exporter": "python",
   "pygments_lexer": "ipython3",
   "version": "3.7.4"
  }
 },
 "nbformat": 4,
 "nbformat_minor": 2
}
