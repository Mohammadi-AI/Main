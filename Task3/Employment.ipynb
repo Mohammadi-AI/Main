{
 "cells": [
  {
   "cell_type": "code",
   "execution_count": null,
   "metadata": {
    "scrolled": true
   },
   "outputs": [],
   "source": [
    "class employee:\n",
    "    \n",
    "    def __init__ (self,partic):\n",
    "        self.partic=partic\n",
    "        self.printpartic=\"\"\n",
    "        \n",
    "        \n",
    "    \n",
    "    def from_string(self):\n",
    "        for i in range(int(len(self.partic))):\n",
    "            if self.partic[i]!=\"-\":\n",
    "                self.printpartic+=self.partic[i]\n",
    "                \n",
    "            elif self.partic[i]==\"-\":\n",
    "                 self.printpartic+=\" \"\n",
    "\n",
    "                \n",
    "    def display(self):\n",
    "        print(self.printpartic)\n",
    "\n",
    "partic=input(\" pleaase Enter your name, family and aslary  :  \")\n",
    "emp1=employee(partic)\n",
    "emp1.from_string()\n",
    "emp1.display()\n",
    "\n",
    "\n",
    "    "
   ]
  },
  {
   "cell_type": "markdown",
   "metadata": {},
   "source": [
    " pleaase Enter your name, family and aslary  :  john-smith-55000\n",
    "john smith 55000\n",
    "\n",
    "\n",
    "pleaase Enter your name, family and aslary  :  ali-rahimi-78905\n",
    "ali rahimi 78905"
   ]
  }
 ],
 "metadata": {
  "kernelspec": {
   "display_name": "Python 3",
   "language": "python",
   "name": "python3"
  },
  "language_info": {
   "codemirror_mode": {
    "name": "ipython",
    "version": 3
   },
   "file_extension": ".py",
   "mimetype": "text/x-python",
   "name": "python",
   "nbconvert_exporter": "python",
   "pygments_lexer": "ipython3",
   "version": "3.7.4"
  }
 },
 "nbformat": 4,
 "nbformat_minor": 2
}
