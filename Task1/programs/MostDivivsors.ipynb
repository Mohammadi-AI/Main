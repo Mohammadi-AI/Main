{
 "cells": [
  {
   "cell_type": "markdown",
   "metadata": {},
   "source": [
    "In this program input 10 different integer digits and find and print the digit or digits that have Most divisors"
   ]
  },
  {
   "cell_type": "markdown",
   "metadata": {},
   "source": [
    "sample inputs and resault:\n",
    "\n",
    "Please enter a digit:123\n",
    "Please enter a digit:43\n",
    "Please enter a digit:54\n",
    "Please enter a digit:12\n",
    "Please enter a digit:76\n",
    "Please enter a digit:84\n",
    "Please enter a digit:98\n",
    "Please enter a digit:678\n",
    "Please enter a digit:543\n",
    "Please enter a digit:231\n",
    "\n",
    "***********************************\n",
    "\n",
    "678    3\n",
    "\n",
    "\n",
    "\n",
    "Please enter a digit:  10\n",
    "Please enter a digit:  23\n",
    "Please enter a digit:  44\n",
    "Please enter a digit:  56\n",
    "Please enter a digit:  36\n",
    "Please enter a digit:  20\n",
    "Please enter a digit:  0\n",
    "Please enter a digit:  1\n",
    "Please enter a digit:  99\n",
    "Please enter a digit:  458\n",
    "\n",
    "***********************************\n",
    "\n",
    "458    2\n"
   ]
  },
  {
   "cell_type": "code",
   "execution_count": 12,
   "metadata": {},
   "outputs": [
    {
     "name": "stdout",
     "output_type": "stream",
     "text": [
      "Please enter a digit:  10\n",
      "Please enter a digit:  23\n",
      "Please enter a digit:  44\n",
      "Please enter a digit:  56\n",
      "Please enter a digit:  36\n",
      "Please enter a digit:  20\n",
      "Please enter a digit:  0\n",
      "Please enter a digit:  1\n",
      "Please enter a digit:  99\n",
      "Please enter a digit:  458\n",
      "\n",
      "***********************************\n",
      "\n",
      "458    2\n"
     ]
    }
   ],
   "source": [
    "finalnumber=0\n",
    "for k in range(0,10):\n",
    "    number=int(input(\"Please enter a digit:  \"))\n",
    "    count=0\n",
    "    divisor=0\n",
    "    for i in range(2,number-1):\n",
    "        if number%i==0 :\n",
    "            for j in range(2,i-1):\n",
    "                if i%j==0:\n",
    "                    divisor+=1\n",
    "            if divisor==0 :\n",
    "                    count+=1\n",
    "    if number>finalnumber :\n",
    "        finalnumber=number\n",
    "print()\n",
    "print('*'*35)\n",
    "print()\n",
    "print(finalnumber , \"  \", count)"
   ]
  }
 ],
 "metadata": {
  "kernelspec": {
   "display_name": "Python 3",
   "language": "python",
   "name": "python3"
  },
  "language_info": {
   "codemirror_mode": {
    "name": "ipython",
    "version": 3
   },
   "file_extension": ".py",
   "mimetype": "text/x-python",
   "name": "python",
   "nbconvert_exporter": "python",
   "pygments_lexer": "ipython3",
   "version": "3.7.4"
  }
 },
 "nbformat": 4,
 "nbformat_minor": 2
}
