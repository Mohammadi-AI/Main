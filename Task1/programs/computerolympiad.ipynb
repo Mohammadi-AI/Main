{
 "cells": [
  {
   "cell_type": "markdown",
   "metadata": {},
   "source": [
    "Sample input and output\n",
    "\n",
    "please enter numbers of people  =  4\n",
    " please type yor gender , name and programing language  :  m.ali.c++\n",
    " please type yor gender , name and programing language  :  f.MINA.BASIC\n",
    " please type yor gender , name and programing language  :  m.farhad.python\n",
    " please type yor gender , name and programing language  :  f.zahra.python\n",
    "F Mina Basic\n",
    "F Zahra Python\n",
    "M Ali C++\n",
    "M Farhad Python\n",
    "\n",
    "please enter numbers of people  =  4\n",
    " please type yor gender , name and programing language  :  m.hoSEin.python\n",
    " please type yor gender , name and programing language  :  f.miNa.c\n",
    " please type yor gender , name and programing language  :  m.AHmAd.c++\n",
    " please type yor gender , name and programing language  :  f.sarah.java\n",
    "F Mina C\n",
    "F Sarah Java\n",
    "M Ahmad C++\n",
    "M Hosein Python\n",
    "\n"
   ]
  },
  {
   "cell_type": "code",
   "execution_count": 24,
   "metadata": {},
   "outputs": [
    {
     "name": "stdout",
     "output_type": "stream",
     "text": [
      "please enter numbers of people  =  4\n",
      " please type yor gender , name and programing language  :  m.hoSEin.python\n",
      " please type yor gender , name and programing language  :  f.miNa.c\n",
      " please type yor gender , name and programing language  :  m.AHmAd.c++\n",
      " please type yor gender , name and programing language  :  f.sarah.java\n",
      "F Mina C\n",
      "F Sarah Java\n",
      "M Ahmad C++\n",
      "M Hosein Python\n"
     ]
    }
   ],
   "source": [
    "standardlist=[]\n",
    "number=int(input(\"please enter numbers of people  =  \"))\n",
    "for i in range (0, number) :\n",
    "    name=input(\" please type yor gender , name and programing language  :  \")\n",
    "    name=name.replace('.',' ')\n",
    "    standardname=name.title()\n",
    "    standardlist.append(standardname)\n",
    "    standardlist.sort()\n",
    "for item in standardlist :\n",
    "    print(item)\n",
    "\n",
    "    "
   ]
  },
  {
   "cell_type": "code",
   "execution_count": null,
   "metadata": {},
   "outputs": [],
   "source": []
  }
 ],
 "metadata": {
  "kernelspec": {
   "display_name": "Python 3",
   "language": "python",
   "name": "python3"
  },
  "language_info": {
   "codemirror_mode": {
    "name": "ipython",
    "version": 3
   },
   "file_extension": ".py",
   "mimetype": "text/x-python",
   "name": "python",
   "nbconvert_exporter": "python",
   "pygments_lexer": "ipython3",
   "version": "3.7.4"
  }
 },
 "nbformat": 4,
 "nbformat_minor": 2
}
