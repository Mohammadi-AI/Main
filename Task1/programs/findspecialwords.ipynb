{
 "cells": [
  {
   "cell_type": "markdown",
   "metadata": {},
   "source": [
    "Sample of input and output:\n",
    "\n",
    "\n",
    "\n",
    "please enter a sentenses:   You Know that it. Is So important to Me\n",
    "Know is located in 2\n",
    "Is is located in 5\n",
    "So is located in 6\n",
    "Me is located in 9\n",
    "\n",
    "\n",
    "please enter a sentenses:   you know that it is so important to me\n",
    "None\n"
   ]
  },
  {
   "cell_type": "markdown",
   "metadata": {},
   "source": []
  },
  {
   "cell_type": "code",
   "execution_count": 65,
   "metadata": {},
   "outputs": [
    {
     "name": "stdout",
     "output_type": "stream",
     "text": [
      "please enter a sentenses:   Are youKnow . My Imporatnt things\n",
      "Imporatnt is located in 5\n",
      "None\n"
     ]
    }
   ],
   "source": [
    "textlist=[]\n",
    "text=input(\"please enter a sentenses:   \")\n",
    "textlist=(text.split())\n",
    "for i in range(1,len(textlist)):\n",
    "    find=textlist[i]\n",
    "    point=textlist[i-1]\n",
    "    if find.istitle() and point!=\".\" :\n",
    "        print (find,i+1,sep=\" is located in \")\n",
    "else:\n",
    "    print(\"None\")\n",
    "\n",
    "    \n",
    "\n",
    "   \n",
    "   \n",
    " \n",
    "   "
   ]
  }
 ],
 "metadata": {
  "kernelspec": {
   "display_name": "Python 3",
   "language": "python",
   "name": "python3"
  },
  "language_info": {
   "codemirror_mode": {
    "name": "ipython",
    "version": 3
   },
   "file_extension": ".py",
   "mimetype": "text/x-python",
   "name": "python",
   "nbconvert_exporter": "python",
   "pygments_lexer": "ipython3",
   "version": "3.7.4"
  }
 },
 "nbformat": 4,
 "nbformat_minor": 2
}
